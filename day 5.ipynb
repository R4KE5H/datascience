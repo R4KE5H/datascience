{
 "cells": [
  {
   "cell_type": "code",
   "execution_count": 10,
   "metadata": {
    "collapsed": false
   },
   "outputs": [
    {
     "name": "stdout",
     "output_type": "stream",
     "text": [
      "jim\n",
      "\n",
      "danny\n",
      "\n",
      "john\n",
      "\n",
      "laura\n",
      "\n",
      "jackie\n",
      "\n"
     ]
    }
   ],
   "source": [
    "hello = open(\"simplenames.txt\",\"r\")\n",
    "for hh in hello.readlines() :\n",
    "    print (hh)\n",
    "print (hello.read())\n",
    "hello.close()\n"
   ]
  },
  {
   "cell_type": "code",
   "execution_count": null,
   "metadata": {
    "collapsed": true
   },
   "outputs": [],
   "source": [
    "hello = open(\"simplenames.txt\",\"a\")\n",
    "hello.write\n",
    "print (hello.read())\n",
    "hello.close()\n"
   ]
  },
  {
   "cell_type": "code",
   "execution_count": 3,
   "metadata": {
    "collapsed": true
   },
   "outputs": [],
   "source": [
    "hello = open(\"simplenames.txt\",\"a\")\n",
    "hello.write(\"\\njerry\")\n",
    "\n",
    "hello.close()\n"
   ]
  },
  {
   "cell_type": "code",
   "execution_count": 6,
   "metadata": {
    "collapsed": true
   },
   "outputs": [],
   "source": [
    "hello = open(\"simplenames1.txt\",\"w\")\n",
    "hello.write(\"\\nhenry\")\n",
    "\n",
    "hello.close()"
   ]
  }
 ],
 "metadata": {
  "anaconda-cloud": {},
  "kernelspec": {
   "display_name": "Python [default]",
   "language": "python",
   "name": "python3"
  },
  "language_info": {
   "codemirror_mode": {
    "name": "ipython",
    "version": 3
   },
   "file_extension": ".py",
   "mimetype": "text/x-python",
   "name": "python",
   "nbconvert_exporter": "python",
   "pygments_lexer": "ipython3",
   "version": "3.5.2"
  }
 },
 "nbformat": 4,
 "nbformat_minor": 1
}
