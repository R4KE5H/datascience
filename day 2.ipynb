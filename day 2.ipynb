{
 "cells": [
  {
   "cell_type": "code",
   "execution_count": 1,
   "metadata": {
    "collapsed": false
   },
   "outputs": [
    {
     "name": "stdout",
     "output_type": "stream",
     "text": [
      "hello\n"
     ]
    }
   ],
   "source": [
    "print(\"hello\")"
   ]
  },
  {
   "cell_type": "code",
   "execution_count": 1,
   "metadata": {
    "collapsed": false
   },
   "outputs": [
    {
     "name": "stdout",
     "output_type": "stream",
     "text": [
      "1\n",
      "2\n",
      "3\n",
      "4\n",
      "5\n",
      "6\n",
      "7\n",
      "8\n",
      "9\n",
      "done\n"
     ]
    }
   ],
   "source": [
    "i = 1\n",
    " \n",
    "while i!=10 :\n",
    "    print(i)\n",
    "    i = i+1\n",
    "print (\"done\")   "
   ]
  },
  {
   "cell_type": "raw",
   "metadata": {},
   "source": [
    "answer = \"New Delhi\"\n",
    "guessed_answer = \"\"\n",
    "\n",
    "while guessed_answer != answer :\n",
    "   guessed_answer = input(\"whats is the capital of india?? : \")\n",
    "   \n",
    "print(\"correct\")   "
   ]
  },
  {
   "cell_type": "code",
   "execution_count": 1,
   "metadata": {
    "collapsed": false,
    "scrolled": true
   },
   "outputs": [
    {
     "name": "stdout",
     "output_type": "stream",
     "text": [
      "1\n"
     ]
    }
   ],
   "source": [
    "print(\"1\")"
   ]
  },
  {
   "cell_type": "code",
   "execution_count": 7,
   "metadata": {
    "collapsed": false,
    "scrolled": true
   },
   "outputs": [
    {
     "name": "stdout",
     "output_type": "stream",
     "text": [
      "whats is the capital of india?? : de\n",
      "not there\n",
      "correct\n"
     ]
    }
   ],
   "source": [
    "answer = \"New Delhi\"\n",
    "guessed_answer = \"\"\n",
    "while (guessed_answer.lower()) != (answer.lower()) :\n",
    "    guessed_answer = input(\"whats is the capital of india?? : \")\n",
    "    if guessed_answer.lower() in answer.lower():\n",
    "        print(\" there\")\n",
    "        break\n",
    "#         continue\n",
    "print(\"correct\") "
   ]
  },
  {
   "cell_type": "code",
   "execution_count": 8,
   "metadata": {
    "collapsed": false,
    "scrolled": true
   },
   "outputs": [
    {
     "name": "stdout",
     "output_type": "stream",
     "text": [
      "whats is the capital of india?? : nd\n",
      "whats is the capital of india?? : New Delhi\n",
      "correct\n"
     ]
    }
   ],
   "source": [
    "answer = \"New Delhi\"\n",
    "guessed_answer = \"\"\n",
    "guessed_count = 0\n",
    "guess_limit = 3\n",
    "outofguess = False\n",
    "\n",
    "while guessed_answer != answer and not(outofguess) :\n",
    "   if guessed_count < guess_limit :\n",
    "      guessed_answer = input(\"whats is the capital of india?? : \")\n",
    "      guessed_count += 1\n",
    "   else :\n",
    "      outofguess = True\n",
    "        \n",
    "\n",
    "if outofguess :\n",
    " print(\"better luck nxt time\")\n",
    "else  :  \n",
    " print(\"correct\") "
   ]
  },
  {
   "cell_type": "code",
   "execution_count": 12,
   "metadata": {
    "collapsed": false,
    "scrolled": true
   },
   "outputs": [
    {
     "name": "stdout",
     "output_type": "stream",
     "text": [
      "true\n"
     ]
    }
   ],
   "source": [
    "k = False\n",
    "\n",
    "if k:\n",
    " print(\"false\")\n",
    "else :\n",
    " print(\"true\")"
   ]
  },
  {
   "cell_type": "code",
   "execution_count": 13,
   "metadata": {
    "collapsed": false
   },
   "outputs": [
    {
     "name": "stdout",
     "output_type": "stream",
     "text": [
      "h\n",
      "e\n",
      "l\n",
      "l\n",
      "o\n"
     ]
    }
   ],
   "source": [
    "for letter in (\"hello\") :\n",
    "    print(letter)\n",
    " "
   ]
  }
 ],
 "metadata": {
  "anaconda-cloud": {},
  "kernelspec": {
   "display_name": "Python [default]",
   "language": "python",
   "name": "python3"
  },
  "language_info": {
   "codemirror_mode": {
    "name": "ipython",
    "version": 3
   },
   "file_extension": ".py",
   "mimetype": "text/x-python",
   "name": "python",
   "nbconvert_exporter": "python",
   "pygments_lexer": "ipython3",
   "version": "3.5.2"
  }
 },
 "nbformat": 4,
 "nbformat_minor": 1
}
